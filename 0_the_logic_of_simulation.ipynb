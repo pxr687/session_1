{
 "cells": [
  {
   "cell_type": "markdown",
   "id": "95fdbfc0",
   "metadata": {},
   "source": [
    "This notebook will re-vist your **simulation** skills. We use simulation (as opposed to permutation testing) when we are testing a claim about whether some observed statistic is consistent with random chance, *but where we are using a single sample*. E.g. you'll remember from the [Robert Swain](https://lisds.github.io/textbook/iteration/reply_supreme.html) simulation, we tested whether getting a jury with 0 black jurors was consistent with random jury selection. This contrasts with permutation testing, where we are typically comparing *two groups/samples* e.g. [testing if Brexit voters are generally older than Remain voters](https://lisds.github.io/textbook/permutation/population_permutation.html), for instance.\n",
    "\n",
    "# Supernatural abilities\n",
    "\n",
    "You have a friend who claims that through [extrasensory perception](https://en.wikipedia.org/wiki/Extrasensory_perception#:~:text=Extrasensory%20perception%20(ESP)%2C%20also,but%20sensed%20with%20the%20mind.) they have the power to predict which card will be drawn next from a deck of cards.\n",
    "\n",
    "You'd like to test this claim, in an unbiased fashion.\n",
    "\n",
    "You draw, one by one, twenty cards from a deck. On each draw, your friend makes a guess as to the card's identity (e.g. Ace of Spades; 3 of Clubs etc.) before seeing the card. You then show them the true identity of the card, and then put the card back in the deck before the next draw. You both record the number of cards they correctly guessed.\n",
    "\n",
    "Your friend guesses 8 of the 20 cards correctly.\n",
    "\n",
    "Is that result surprising? Is your friend guessing randomly, or is there evidence they have some extrasensory ability e.g. the ability to \"perceive\" what the card is, in a non-random way?\n",
    "\n",
    "If you friend does *not* have such an ability, then the chance of correctly guessing on each draw is $\\frac{1}{52}$, as there are 52 cards in a standard deck.\n",
    "\n",
    "Let's use a simulation to test whether your friend really seems to have extra sensory perception.\n",
    "\n",
    "Run the cell below which does some necessary library imports, and also sets up numpy's random number generator:"
   ]
  },
  {
   "cell_type": "code",
   "execution_count": null,
   "id": "20083b21",
   "metadata": {},
   "outputs": [],
   "source": [
    "# import numpy and set up the random number generator\n",
    "import numpy as np\n",
    "import matplotlib.pyplot as plt\n",
    "\n",
    "# some other imports needed for test\n",
    "from tests import test_1, test_2\n",
    "from jupyprint import jupyprint\n",
    "\n",
    "rng = np.random.default_rng()"
   ]
  },
  {
   "cell_type": "markdown",
   "id": "07c57ee0",
   "metadata": {},
   "source": [
    "Let's make a variable called `correct_of_20` to store the number of guesses that your friend got correct.\n",
    "\n",
    "We can then compare this to the number of correct guesses we get in the simulation."
   ]
  },
  {
   "cell_type": "code",
   "execution_count": null,
   "id": "ae2ef26e",
   "metadata": {},
   "outputs": [],
   "source": [
    "# store your friend's correct number of guess as a variable\n",
    "correct_of_20 = 8"
   ]
  },
  {
   "cell_type": "markdown",
   "id": "51834d1f",
   "metadata": {},
   "source": [
    "Now, perform the simulation in the cell below. We want to simulate the *null world* - a world where the guesses are completely random. Then we can see if getting 8 correct guesses is unusual, in the *null world*. This simulation will involve doing the following:\n",
    "\n",
    "- simulating 20 \"trials\", where on each trial an individual card is drawn and a guess is made about the identity of each card, with 1/52 probability of the guess being correct\n",
    "- counting how many of the 20 guesses were correct, and storing this number\n",
    "- repeating this process a large number of times to get an idea of how many correct guesses are typical in the *null world*. **Please use 10,000 repeats for the simulation**, so that the marking works correctly :)\n",
    "\n",
    "Store the number of correct guesses on each repeat of the simulation in a list called `correct` (otherwise the marking will not work)."
   ]
  },
  {
   "cell_type": "code",
   "execution_count": null,
   "id": "b7a6877b",
   "metadata": {
    "scrolled": false
   },
   "outputs": [],
   "source": [
    "# perform your simulation here...\n",
    "\n",
    "# a list to store the results of your simulation (this list should contain\n",
    "# the number of correct guesses on each repeat of the simulation)\n",
    "correct = []"
   ]
  },
  {
   "cell_type": "code",
   "execution_count": null,
   "id": "f818c858",
   "metadata": {},
   "outputs": [],
   "source": [
    "# plot the results of the simulation here (optional, but useful)"
   ]
  },
  {
   "cell_type": "markdown",
   "id": "4ffd602a",
   "metadata": {},
   "source": [
    "The cell below will mark your answer:"
   ]
  },
  {
   "cell_type": "code",
   "execution_count": null,
   "id": "aee4d746",
   "metadata": {},
   "outputs": [],
   "source": [
    "# do not change the code in this cell, just run the cell to check your answer\n",
    "assert np.isclose(np.mean(correct), test_1(), atol=0.05), \"Hmmm that simulation result doesn't look right...\"\n",
    "jupyprint(\"It looks like you've done the simulation correctly!\")"
   ]
  },
  {
   "cell_type": "markdown",
   "id": "0b3bbd98",
   "metadata": {},
   "source": [
    "## Interpretation\n",
    "\n",
    "Let's think about what we've done here. We've essentially tested between two hypotheses.\n",
    "\n",
    "**Hypothesis 0**: Your friend is just making random guesses, the number of guesses they got correct is consistent with pure random chance. (This is the *null world* model).\n",
    "\n",
    "**Hypothesis 1**: The number of correct guesses your friend made is **not** consistent with random chance. There must be some **non-randomness** in their guesses.\n",
    "\n",
    "If we find that the number of correct guesses your friend got is very common in the simulation, we conclude that there is not enough evidence to reject Hypothesis 0.\n",
    "\n",
    "If the number of correct guesses is **not common** in the simulation, then we conclude that pure randomness is not a good explanation for the number of correct guesses. We reject Hypothesis 0 and have some evidence for Hypothesis 1.\n",
    "\n",
    "Evidence for Hypothesis 1 *might* be evidence for your friend's extrasensory perception ability; but also it may indicate there is some other way they are making the guesses that is allowing them to perform better than chance. For instance, they may be pranking you, and may be using a mirror behind you that let's them see the card as it is drawn...\n",
    "\n",
    "The simulation provides probabilistic evidence about whether randomness is a good model of the observed data. It does not definitively rule either way as to a specific explanation of that non-randomness, that requires careful reasoning about alternative explanations (e.g. the process of doing science!)."
   ]
  },
  {
   "cell_type": "markdown",
   "id": "e7a1f38c",
   "metadata": {},
   "source": [
    "# Supernatural abilities 2\n",
    "\n",
    "Variations of the above scenario have actually been tested in the scientific literature using [Zener cards](https://www.apa.org/monitor/2008/04/zener). (Named after the psychologist [Karl Zener](https://en.wikipedia.org/wiki/Karl_Zener)). The quote below describes the Zener cards, and how they were used in experiments:\n",
    "\n",
    ">One of his experiments involved the cards, which came 25 to a pack. Inside were five cards each of five different designs--a circle, cross, wave, square and star--chosen because each had one more line than the other. The back side of the card had a blue background with a design and a Duke building. Although Rhine did much of the research, he had Zener design the cards since Zener was a perceptual psychologist.\n",
    ">\n",
    ">In his experiments, Rhine would hold up the card with the back side forward and ask the subject to tell him which design was on the front of the card.\n",
    ">\n",
    ">He conducted tests in myriad conditions seeking to remove outside forces that would clue subjects into what was on the card. For example, to remove shuffling errors, he used a machine to shuffle cards. To eliminate the chance of card counting, he did not tell subjects if they were correct or not on a guess. To remove physical or facial cues, he put subject and experimenter in different rooms. In one test, he put a high performing subject and experimenter 250 yards apart.\n",
    "\n",
    "Here is a picture of the Zener cards:\n",
    "\n",
    "![](https://static.wikia.nocookie.net/psychology/images/e/e0/Cartas_Zener.svg)\n",
    "\n",
    "(image from: https://psychology.fandom.com/wiki/Zener_cards)\n",
    "\n",
    "We are going to do our own Zener extrasensory perception study now - with you as the participant!\n",
    "\n",
    "How this will work is as follows:\n",
    "\n",
    "- you will run a code cell which will draw a card from a Zener deck (using a python representation of the card and deck)\n",
    "- the code cell with ask you to guess the identity of the card, by typing  \"circle\", \"cross\", \"wave\", \"square\" or \"star\"\n",
    "- a printout from the code cell will then tell you if your guess was correct\n",
    "- whether you guessed correctly will then be stored in an array called `guesses`\n",
    "- you can then run the cell as many times as you like, drawing a new card each time (on each draw, the card is put back into the deck at the end)\n",
    "\n",
    "We can then check if **you** have extrasensory abilities by performing a simulation.\n",
    "\n",
    "Run the cell below to initialize the `guesses` array, where we will store your guesses:"
   ]
  },
  {
   "cell_type": "code",
   "execution_count": null,
   "id": "b43585ff",
   "metadata": {},
   "outputs": [],
   "source": [
    "# an empty array to record whether each of your guesses is correct\n",
    "guesses = np.array([])"
   ]
  },
  {
   "cell_type": "markdown",
   "id": "277c50dc",
   "metadata": {},
   "source": [
    "The code cell below will simulate the Zener card experiment, with you as the participant. \n",
    "\n",
    "Each time you run the cell a card will be drawn from a simulated Zener deck (either `\"circle\"`, `\"cross\"`, `\"wave\"`, `\"square\"` or `\"star\"`).\n",
    "\n",
    "You will not be shown the identity of the card, but will be asked to guess it's identity, by typing either `\"circle\"`, `\"cross\"`, `\"wave\"`, `\"square\"` or `\"star\"`.\n",
    "\n",
    "You will then be told whether your guess is correct, and shown the true identity of the card.\n",
    "\n",
    "The card with then be put back in the Zener deck. \n",
    "\n",
    "Whether your guess is correct or not will be stored in the `guesses` array.\n",
    "\n",
    "**You can run this cell as many times as you want, generating as much data as you want (more is better!)**.\n",
    "\n",
    "Please run the cell below to begin:"
   ]
  },
  {
   "cell_type": "code",
   "execution_count": null,
   "id": "dbf4f938",
   "metadata": {},
   "outputs": [],
   "source": [
    "# DO NOT CHANGE THE CODE IN THIS CELL, JUST RUN IT (you can run it as many times as you like)\n",
    "import zener\n",
    "\n",
    "# run the current trial\n",
    "guesses = zener.esp(guesses)\n",
    "\n",
    "# show the `guesses` array\n",
    "jupyprint(\"\\nHere is your current `guesses` array:\")\n",
    "display(guesses)"
   ]
  },
  {
   "cell_type": "markdown",
   "id": "0b455c5d",
   "metadata": {},
   "source": [
    "The cells below will count and show the number of correct guesses you have made:"
   ]
  },
  {
   "cell_type": "code",
   "execution_count": null,
   "id": "883268f6",
   "metadata": {},
   "outputs": [],
   "source": [
    "# count the number of correct guesses\n",
    "number_correct = np.sum(guesses == 'CORRECT')\n",
    "\n",
    "number_correct"
   ]
  },
  {
   "cell_type": "markdown",
   "id": "826767ab",
   "metadata": {},
   "source": [
    "Once you are happy with the amount of data you have, perform a simulation to test whether the number of correct guesses you got is consistent with random chance. This will involve:\n",
    "\n",
    "- on each repeat, simulating making the same number as guesses as you made, where the probability of being correct is random (you'll need to think about what numbers to use here). Count the number of correct guesses on each simulated trial.\n",
    "- on each repeat of the simulation, store the number of correct guesses in an array called `results`\n",
    "- repeat these process 10,000 times - please use 10,000 repeats again so that the marking works correctly :) \n",
    "\n",
    "You can then check if the number of correct guesses you got is consistent with the *null world* - or is there evidence that you have extrasensory perception?"
   ]
  },
  {
   "cell_type": "code",
   "execution_count": null,
   "id": "c9d2aedf",
   "metadata": {},
   "outputs": [],
   "source": [
    "# perform your simulation here\n",
    "results = [...]"
   ]
  },
  {
   "cell_type": "code",
   "execution_count": null,
   "id": "4aaf8dad",
   "metadata": {},
   "outputs": [],
   "source": [
    "# plot the results of your simulation here (optional, but useful)"
   ]
  },
  {
   "cell_type": "markdown",
   "id": "8ec1386d",
   "metadata": {},
   "source": [
    "The cell below will mark your answer:"
   ]
  },
  {
   "cell_type": "code",
   "execution_count": null,
   "id": "9a19c14b",
   "metadata": {},
   "outputs": [],
   "source": [
    "# do not change the code in this cell, just run the cell to check your answer\n",
    "assert np.isclose(np.mean(results), test_2(guesses), atol=0.05), \"Hmmm that simulation result doesn't look right...\"\n",
    "jupyprint(\"It looks like you've done the simulation correctly!\")"
   ]
  },
  {
   "cell_type": "code",
   "execution_count": null,
   "id": "32f59fc7",
   "metadata": {},
   "outputs": [],
   "source": []
  }
 ],
 "metadata": {
  "kernelspec": {
   "display_name": "Python 3 (ipykernel)",
   "language": "python",
   "name": "python3"
  },
  "language_info": {
   "codemirror_mode": {
    "name": "ipython",
    "version": 3
   },
   "file_extension": ".py",
   "mimetype": "text/x-python",
   "name": "python",
   "nbconvert_exporter": "python",
   "pygments_lexer": "ipython3",
   "version": "3.11.1"
  }
 },
 "nbformat": 4,
 "nbformat_minor": 5
}
