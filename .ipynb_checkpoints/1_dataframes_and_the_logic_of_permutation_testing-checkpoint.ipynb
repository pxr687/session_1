{
 "cells": [
  {
   "cell_type": "markdown",
   "id": "4d30fefe",
   "metadata": {},
   "source": [
    "# Dataframes and the Logic of Permutation testing\n",
    "\n",
    "This page is for live coding demonstration. I will show you some foundational dataframe operations."
   ]
  },
  {
   "cell_type": "code",
   "execution_count": null,
   "id": "4e1baa43",
   "metadata": {},
   "outputs": [],
   "source": [
    "# import libraries\n",
    "import pandas as pd\n",
    "import numpy as np\n",
    "import matplotlib.pyplot as plt\n",
    "\n",
    "epl = pd.read_csv(\"data/premier_league_2021.csv\")\n",
    "\n",
    "epl"
   ]
  },
  {
   "cell_type": "code",
   "execution_count": null,
   "id": "3619de60",
   "metadata": {},
   "outputs": [],
   "source": [
    "# writing a function\n",
    "def make_lower(string):"
   ]
  }
 ],
 "metadata": {
  "kernelspec": {
   "display_name": "Python 3 (ipykernel)",
   "language": "python",
   "name": "python3"
  },
  "language_info": {
   "codemirror_mode": {
    "name": "ipython",
    "version": 3
   },
   "file_extension": ".py",
   "mimetype": "text/x-python",
   "name": "python",
   "nbconvert_exporter": "python",
   "pygments_lexer": "ipython3",
   "version": "3.11.1"
  }
 },
 "nbformat": 4,
 "nbformat_minor": 5
}
